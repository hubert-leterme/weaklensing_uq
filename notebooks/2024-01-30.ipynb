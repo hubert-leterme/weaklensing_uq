{
 "cells": [
  {
   "cell_type": "markdown",
   "metadata": {},
   "source": [
    "# Weak lensing – Notebook 30th January 2024 to ..."
   ]
  },
  {
   "cell_type": "code",
   "execution_count": 173,
   "metadata": {},
   "outputs": [],
   "source": [
    "%matplotlib inline\n",
    "\n",
    "import os\n",
    "import yaml\n",
    "import numpy as np\n",
    "import matplotlib.pyplot as plt\n",
    "import matplotlib.path as mpath\n",
    "from scipy import ndimage, signal, stats, optimize\n",
    "\n",
    "import astropy as ap\n",
    "from lenspack.utils import bin2d\n",
    "from lenspack.image.inversion import ks93, ks93inv\n",
    "\n",
    "import galsim"
   ]
  },
  {
   "cell_type": "code",
   "execution_count": 5,
   "metadata": {},
   "outputs": [],
   "source": [
    "with open('../config.yml', 'r') as file:\n",
    "    config_data = yaml.safe_load(file)\n",
    "\n",
    "KTNG_DIR = os.path.expanduser(config_data['ktng_dir'])\n",
    "TRECS_DIR = os.path.expanduser(config_data['trecs_dir'])\n",
    "TRECS_FILE = config_data['trec_file']\n",
    "\n",
    "REDSHIFTS = [0.506, 1.034, 1.532] # red shifts for the simulated convergence maps\n",
    "FILENAMES = ['kappa13', 'kappa23', 'kappa30'] # corresponding filenames"
   ]
  },
  {
   "cell_type": "markdown",
   "metadata": {},
   "source": [
    "## 2024-01-30\n",
    "\n",
    "### Figures for the TITAN-TOSCA workshop"
   ]
  },
  {
   "cell_type": "markdown",
   "metadata": {},
   "source": [
    "#### Illustration of shear and convergence\n",
    "*Code inspired from https://github.com/CosmoStat/ShapeDeconv/blob/master/data/T-RECS/Generate%20Radio%20ground%20truth%20from%20T-RECS.ipynb*"
   ]
  },
  {
   "cell_type": "markdown",
   "metadata": {},
   "source": [
    "Open T-RECS catalog:"
   ]
  },
  {
   "cell_type": "code",
   "execution_count": 8,
   "metadata": {},
   "outputs": [],
   "source": [
    "catalog_sfg = ap.io.fits.open(os.path.join(TRECS_DIR, TRECS_FILE))\n",
    "catdata_sfg = catalog_sfg[1].data\n",
    "\n",
    "flux1400sfg = catdata_sfg['I1400'] # flux density at 1400 MHz (in Janskys)\n",
    "sizesfg = catdata_sfg['size'] # angular size on the sky (in arcsec)\n",
    "e1 = catdata_sfg['e1'] # first ellipticity\n",
    "e2 = catdata_sfg['e2'] # second ellipticity"
   ]
  },
  {
   "cell_type": "code",
   "execution_count": 37,
   "metadata": {},
   "outputs": [],
   "source": [
    "imgsize = 64\n",
    "pixelscale = 1.5 # Size of pixel in arcsec on the sky. Helps sampling the images w.r.t. catalogues.\n",
    "fft_bigsize = 81488  # Max size of support for Galsim (Caching the FFT)"
   ]
  },
  {
   "cell_type": "markdown",
   "metadata": {},
   "source": [
    "Filter galaxies by size:"
   ]
  },
  {
   "cell_type": "code",
   "execution_count": 73,
   "metadata": {},
   "outputs": [
    {
     "name": "stdout",
     "output_type": "stream",
     "text": [
      "Number of selected galaxies = 80\n"
     ]
    }
   ],
   "source": [
    "minpixsize = 10\n",
    "maxpixsize = 20\n",
    "\n",
    "filterobj = np.logical_and(sizesfg > minpixsize*pixelscale, sizesfg < maxpixsize*pixelscale)\n",
    "listindexobj = np.where(filterobj == True)[0]\n",
    "print(f\"Number of selected galaxies = {len(listindexobj)}\")"
   ]
  },
  {
   "cell_type": "markdown",
   "metadata": {},
   "source": [
    "Generate star-forming galaxies (T-RECS):"
   ]
  },
  {
   "cell_type": "code",
   "execution_count": 180,
   "metadata": {},
   "outputs": [],
   "source": [
    "#idx_source = np.random.choice(listindexobj)\n",
    "idx_source = 43980\n",
    "fluxsource = flux1400sfg[idx_source]\n",
    "e1gal = e1[idx_source]\n",
    "e2gal = e2[idx_source]"
   ]
  },
  {
   "cell_type": "code",
   "execution_count": 181,
   "metadata": {},
   "outputs": [],
   "source": [
    "def create_stamp(imgsize, pixelscale):\n",
    "    stamp = galsim.ImageF(imgsize, imgsize, scale=pixelscale)\n",
    "    stamp = stamp[galsim.BoundsI(1, imgsize, 1, imgsize)]\n",
    "    return stamp"
   ]
  },
  {
   "cell_type": "code",
   "execution_count": 182,
   "metadata": {},
   "outputs": [],
   "source": [
    "big_fft_params = galsim.GSParams(maximum_fft_size=fft_bigsize)\n",
    "gauss_gal = galsim.Gaussian(fwhm=sizesfg[idx_source], flux=fluxsource)\n",
    "gal = galsim.Exponential(half_light_radius=gauss_gal.half_light_radius, flux=fluxsource, gsparams=big_fft_params)\n",
    "ellipticity = galsim.Shear(e1=e1gal, e2=e2gal)\n",
    "gal = gal.shear(ellipticity)\n",
    "stamp = create_stamp(imgsize, pixelscale)\n",
    "galimg = gal.drawImage(stamp, scale=pixelscale)"
   ]
  },
  {
   "cell_type": "code",
   "execution_count": 185,
   "metadata": {},
   "outputs": [
    {
     "data": {
      "image/png": "[encoded data removed]",
      "text/plain": [
       "<Figure size 640x480 with 1 Axes>"
      ]
     },
     "metadata": {},
     "output_type": "display_data"
    }
   ],
   "source": [
    "plt.figure()\n",
    "plt.imshow(galimg.array)\n",
    "plt.xticks([])\n",
    "plt.yticks([])\n",
    "plt.show()"
   ]
  },
  {
   "cell_type": "markdown",
   "metadata": {},
   "source": [
    "Apply convergence:"
   ]
  },
  {
   "cell_type": "code",
   "execution_count": 184,
   "metadata": {},
   "outputs": [],
   "source": [
    "convergence = 2\n",
    "gal_conv = gal.dilate(convergence)\n",
    "stamp = create_stamp(imgsize, pixelscale)\n",
    "galimg_conv = gal_conv.drawImage(stamp, scale=pixelscale)"
   ]
  },
  {
   "cell_type": "code",
   "execution_count": 186,
   "metadata": {},
   "outputs": [
    {
     "data": {
      "image/png": "[encoded data removed]",
      "text/plain": [
       "<Figure size 640x480 with 1 Axes>"
      ]
     },
     "metadata": {},
     "output_type": "display_data"
    }
   ],
   "source": [
    "plt.figure()\n",
    "plt.imshow(galimg_conv.array)\n",
    "plt.xticks([])\n",
    "plt.yticks([])\n",
    "plt.show()"
   ]
  },
  {
   "cell_type": "markdown",
   "metadata": {},
   "source": [
    "Apply shear:"
   ]
  },
  {
   "cell_type": "code",
   "execution_count": 211,
   "metadata": {},
   "outputs": [],
   "source": [
    "shear1, shear2 = 0.1, -0.3\n",
    "shear = galsim.Shear(e1=shear1, e2=shear2)\n",
    "gal_conv_shear = gal_conv.shear(shear)\n",
    "stamp = create_stamp(imgsize, pixelscale)\n",
    "galimg_conv_shear = gal_conv_shear.drawImage(stamp, scale=pixelscale)"
   ]
  },
  {
   "cell_type": "code",
   "execution_count": 212,
   "metadata": {},
   "outputs": [
    {
     "data": {
      "image/png": "[encoded data removed]",
      "text/plain": [
       "<Figure size 640x480 with 1 Axes>"
      ]
     },
     "metadata": {},
     "output_type": "display_data"
    }
   ],
   "source": [
    "plt.figure()\n",
    "plt.imshow(galimg_conv_shear.array)\n",
    "plt.xticks([])\n",
    "plt.yticks([])\n",
    "plt.show()"
   ]
  }
 ],
 "metadata": {
  "kernelspec": {
   "display_name": "weaklensing",
   "language": "python",
   "name": "python3"
  },
  "language_info": {
   "codemirror_mode": {
    "name": "ipython",
    "version": 3
   },
   "file_extension": ".py",
   "mimetype": "text/x-python",
   "name": "python",
   "nbconvert_exporter": "python",
   "pygments_lexer": "ipython3",
   "version": "3.11.7"
  }
 },
 "nbformat": 4,
 "nbformat_minor": 2
}
