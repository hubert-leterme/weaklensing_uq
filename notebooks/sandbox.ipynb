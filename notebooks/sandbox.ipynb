{
 "cells": [
  {
   "cell_type": "code",
   "execution_count": 11,
   "metadata": {},
   "outputs": [],
   "source": [
    "import numpy as np\n",
    "\n",
    "# Assuming inp is your (K, N, N) array and add_array is your (N, N) array\n",
    "# Create example arrays\n",
    "K, N = 3, 4\n",
    "inp = np.random.rand(K, N, N)\n",
    "add_array = np.random.rand(N, N)\n",
    "\n",
    "# Perform elementwise addition using broadcasting\n",
    "result = inp + add_array\n",
    "\n",
    "# 'result' will be a (K, N, N) array containing the elementwise addition for each k"
   ]
  },
  {
   "cell_type": "code",
   "execution_count": 12,
   "metadata": {},
   "outputs": [
    {
     "data": {
      "text/plain": [
       "array([[[0.98050371, 0.92046246, 0.64222536, 0.65203125],\n",
       "        [0.72639375, 0.40326746, 0.06806301, 0.28759754],\n",
       "        [0.45892616, 0.18891884, 0.55308033, 0.19125456],\n",
       "        [0.44787321, 0.61990916, 0.34976093, 0.11013427]],\n",
       "\n",
       "       [[0.86471093, 0.17530154, 0.23325586, 0.81151543],\n",
       "        [0.3713614 , 0.72956368, 0.79629479, 0.11481586],\n",
       "        [0.45016766, 0.03129019, 0.75064678, 0.54498288],\n",
       "        [0.78315322, 0.90947342, 0.55328097, 0.20202295]],\n",
       "\n",
       "       [[0.73805293, 0.3834268 , 0.16883028, 0.22469354],\n",
       "        [0.20094729, 0.3105975 , 0.67675413, 0.55928563],\n",
       "        [0.42658173, 0.53382692, 0.54917137, 0.24997399],\n",
       "        [0.02910895, 0.67776353, 0.93265729, 0.56068972]]])"
      ]
     },
     "execution_count": 12,
     "metadata": {},
     "output_type": "execute_result"
    }
   ],
   "source": [
    "inp"
   ]
  },
  {
   "cell_type": "code",
   "execution_count": 13,
   "metadata": {},
   "outputs": [
    {
     "data": {
      "text/plain": [
       "array([[0.71989318, 0.75084921, 0.95798292, 0.56536873],\n",
       "       [0.81158546, 0.1071519 , 0.98837523, 0.45942009],\n",
       "       [0.93025942, 0.21562869, 0.32524381, 0.62769131],\n",
       "       [0.17925898, 0.90696184, 0.89431988, 0.67594903]])"
      ]
     },
     "execution_count": 13,
     "metadata": {},
     "output_type": "execute_result"
    }
   ],
   "source": [
    "add_array"
   ]
  },
  {
   "cell_type": "code",
   "execution_count": 14,
   "metadata": {},
   "outputs": [
    {
     "data": {
      "text/plain": [
       "array([[[1.70039689, 1.67131168, 1.60020828, 1.21739998],\n",
       "        [1.53797921, 0.51041936, 1.05643824, 0.74701764],\n",
       "        [1.38918559, 0.40454754, 0.87832413, 0.81894587],\n",
       "        [0.62713219, 1.526871  , 1.24408081, 0.7860833 ]],\n",
       "\n",
       "       [[1.5846041 , 0.92615075, 1.19123878, 1.37688416],\n",
       "        [1.18294686, 0.83671558, 1.78467002, 0.57423596],\n",
       "        [1.38042708, 0.24691889, 1.07589059, 1.17267419],\n",
       "        [0.96241219, 1.81643527, 1.44760084, 0.87797198]],\n",
       "\n",
       "       [[1.4579461 , 1.13427601, 1.1268132 , 0.79006227],\n",
       "        [1.01253275, 0.4177494 , 1.66512936, 1.01870572],\n",
       "        [1.35684115, 0.74945562, 0.87441518, 0.8776653 ],\n",
       "        [0.20836793, 1.58472537, 1.82697717, 1.23663875]]])"
      ]
     },
     "execution_count": 14,
     "metadata": {},
     "output_type": "execute_result"
    }
   ],
   "source": [
    "result"
   ]
  }
 ],
 "metadata": {
  "kernelspec": {
   "display_name": "Python 3",
   "language": "python",
   "name": "python3"
  },
  "language_info": {
   "codemirror_mode": {
    "name": "ipython",
    "version": 3
   },
   "file_extension": ".py",
   "mimetype": "text/x-python",
   "name": "python",
   "nbconvert_exporter": "python",
   "pygments_lexer": "ipython3",
   "version": "3.11.7"
  }
 },
 "nbformat": 4,
 "nbformat_minor": 2
}
