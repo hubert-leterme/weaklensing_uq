{
 "cells": [
  {
   "cell_type": "code",
   "execution_count": 18,
   "metadata": {},
   "outputs": [
    {
     "name": "stderr",
     "output_type": "stream",
     "text": [
      "/tmp/ipykernel_6728/1893834396.py:29: UserWarning: set_ticklabels() should only be used with a fixed number of ticks, i.e. after set_ticks() or using a FixedLocator.\n",
      "  ax.set_xticklabels([\"Uncalibrated\", \"CQR\", \"Uncalibrated\", \"CQR\"], minor=True)\n"
     ]
    },
    {
     "data": {
      "image/png": "[encoded data removed]",
      "text/plain": [
       "<Figure size 640x480 with 1 Axes>"
      ]
     },
     "metadata": {},
     "output_type": "display_data"
    }
   ],
   "source": [
    "import matplotlib.pyplot as plt\n",
    "\n",
    "# Sample data\n",
    "data = [\n",
    "    [1, 2, 3, 4, 5],\n",
    "    [3, 4, 5, 6, 7],\n",
    "    [2, 3, 4, 5, 6],\n",
    "    [4, 5, 6, 7, 8]\n",
    "]\n",
    "\n",
    "# Labels for the boxes\n",
    "xticklabels = [\"Uncalibrated (unbiased)\", \"CQR (unbiased)\", \"Uncalibrated (biased)\", \"CQR (biased)\"]\n",
    "\n",
    "# Create a figure and axis\n",
    "fig, ax = plt.subplots()\n",
    "\n",
    "# Create boxplot\n",
    "bp = ax.boxplot(data, patch_artist=True)\n",
    "\n",
    "# Set x-tick labels\n",
    "ax.set_xticklabels([])  # Clear the default labels\n",
    "\n",
    "# Add major ticks (bottom)\n",
    "ax.set_xticks([1.5, 3.5])\n",
    "ax.set_xticklabels([\"Unbiased\", \"Biased\"])\n",
    "\n",
    "# Add minor ticks (top)\n",
    "ax.set_xticks([1, 2, 3, 4])\n",
    "ax.set_xticklabels([\"Uncalibrated\", \"CQR\", \"Uncalibrated\", \"CQR\"], minor=True)\n",
    "\n",
    "# Show the plot\n",
    "plt.show()"
   ]
  }
 ],
 "metadata": {
  "kernelspec": {
   "display_name": "Python 3",
   "language": "python",
   "name": "python3"
  },
  "language_info": {
   "codemirror_mode": {
    "name": "ipython",
    "version": 3
   },
   "file_extension": ".py",
   "mimetype": "text/x-python",
   "name": "python",
   "nbconvert_exporter": "python",
   "pygments_lexer": "ipython3",
   "version": "3.11.7"
  }
 },
 "nbformat": 4,
 "nbformat_minor": 2
}
