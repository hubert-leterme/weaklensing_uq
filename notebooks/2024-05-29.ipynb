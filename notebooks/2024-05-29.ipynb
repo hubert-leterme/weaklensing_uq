{
 "cells": [
  {
   "cell_type": "markdown",
   "metadata": {},
   "source": [
    "# Weak lensing – Notebook 29th May 2024"
   ]
  },
  {
   "cell_type": "markdown",
   "metadata": {},
   "source": [
    "Notebook tested with commit nb `XXX`.\n",
    "\n",
    "Check requirements in `env.yml` (conda virtual environment).\n",
    "\n",
    "The `pycs` package from the `cosmostat` repository (https://github.com/CosmoStat/cosmostat) could not be installed with `pip install .`. Therefore, the path to the git repository must be added to `PYTHONPATH` (see below). Tested with commit nb `a420193ced4bcd081f04a0afe0773aa4c120bfc8` (branch \"hos\").\n",
    "\n",
    "The `pysparse` package from the `Sparse2D` repository  (https://github.com/CosmoStat/Sparse2D) needs to be manually installed. Tested with commit nb `3f9d54863765980299cfe92e0624ba93ed7ff02b`.\n",
    "\n",
    "Very dirty workaround to avoid `ImportError: libpython3.11.so.1.0: cannot open shared object file: No such file or directory`: create a symbolic link from the `libpython3.11.so.1.0` file, which is typically stored in the `~/miniconda3/envs/wl-pycs/lib` (i.e., the directory for shared libraries within the virtual environment), to a standard root location such as `/lib/x86_64-linux-gnu`."
   ]
  },
  {
   "cell_type": "code",
   "execution_count": 1,
   "metadata": {},
   "outputs": [],
   "source": [
    "%config InlineBackend.figure_format = 'svg'\n",
    "%matplotlib inline\n",
    "%load_ext autoreload\n",
    "%autoreload 2"
   ]
  },
  {
   "cell_type": "code",
   "execution_count": 2,
   "metadata": {},
   "outputs": [
    {
     "name": "stdout",
     "output_type": "stream",
     "text": [
      "Configuration file found in /home/leterme231/OneDrive/Documents/Code/weaklensing\n",
      "The `pycs` package is located in /home/leterme231/OneDrive/Documents/Code/cosmostat\n"
     ]
    }
   ],
   "source": [
    "import os\n",
    "import sys\n",
    "import pickle\n",
    "\n",
    "import numpy as np\n",
    "from scipy import stats, optimize\n",
    "import matplotlib.pyplot as plt\n",
    "\n",
    "parent_dir = os.path.abspath(os.path.join(os.getcwd(), '..'))\n",
    "sys.path.append(parent_dir)\n",
    "\n",
    "import weaklensing as wl\n",
    "import weaklensing.kappatng as wlktng\n",
    "import weaklensing.cosmos as wlcosmos\n",
    "import weaklensing.utils as wlutils\n",
    "import weaklensing.cqr as wlcqr\n",
    "import weaklensing.rcps as wlrcps\n",
    "\n",
    "pycs_dir = os.path.expanduser(wl.CONFIG_DATA['pycs_dir'])\n",
    "sys.path.append(pycs_dir) # tested with commit nb b7b39124de0ad444a89e27123e1791400edfe748 (branch \"hos-hl\")\n",
    "print(f\"The `pycs` package is located in {pycs_dir}\")\n",
    "\n",
    "import pycs.astro.wl.mass_mapping as csmm"
   ]
  },
  {
   "cell_type": "markdown",
   "metadata": {},
   "source": [
    "### Compare kappaTNG datasets\n",
    "\n",
    "Old sample dataset vs full dataset in `hdf5` format."
   ]
  },
  {
   "cell_type": "code",
   "execution_count": 3,
   "metadata": {},
   "outputs": [],
   "source": [
    "size = 1.5"
   ]
  },
  {
   "cell_type": "code",
   "execution_count": 4,
   "metadata": {},
   "outputs": [
    {
     "name": "stdout",
     "output_type": "stream",
     "text": [
      "Nb of pixels per side = 306\n",
      "Opening angle = 1.49 deg\n"
     ]
    }
   ],
   "source": [
    "width, size = wlktng.get_npixels_openingangle(size)\n",
    "print(f\"Nb of pixels per side = {width}\")\n",
    "print(f\"Opening angle = {size:.2f} deg\")"
   ]
  },
  {
   "cell_type": "markdown",
   "metadata": {},
   "source": [
    "Load data from the COSMOS catalog"
   ]
  },
  {
   "cell_type": "code",
   "execution_count": 5,
   "metadata": {},
   "outputs": [],
   "source": [
    "cat_cosmos = wlcosmos.cosmos_catalog(\n",
    "    include_faint=False\n",
    ")\n",
    "data_cosmos = wlcosmos.get_data_from_cosmos(cat_cosmos, size)\n",
    "extent = data_cosmos[\"extent\"]"
   ]
  },
  {
   "cell_type": "markdown",
   "metadata": {},
   "source": [
    "Load data from the full dataset"
   ]
  },
  {
   "cell_type": "code",
   "execution_count": 10,
   "metadata": {},
   "outputs": [],
   "source": [
    "# Instantiate KappaTNG object\n",
    "ktng = wlktng.KappaTNG(size=size)"
   ]
  }
 ],
 "metadata": {
  "kernelspec": {
   "display_name": "Python 3",
   "language": "python",
   "name": "python3"
  },
  "language_info": {
   "codemirror_mode": {
    "name": "ipython",
    "version": 3
   },
   "file_extension": ".py",
   "mimetype": "text/x-python",
   "name": "python",
   "nbconvert_exporter": "python",
   "pygments_lexer": "ipython3",
   "version": "3.11.7"
  }
 },
 "nbformat": 4,
 "nbformat_minor": 2
}
